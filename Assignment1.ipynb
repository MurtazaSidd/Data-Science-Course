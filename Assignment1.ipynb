{
 "cells": [
  {
   "cell_type": "code",
   "execution_count": 2,
   "id": "dc6992c5",
   "metadata": {},
   "outputs": [
    {
     "name": "stdout",
     "output_type": "stream",
     "text": [
      "\t Twinkle, twinkle, little star,\n",
      "\t \t How I wonder what you are!\n",
      "\t \t \tUp above the world so high,\n",
      "\t \t \t Like a diamond in the sky.\n",
      "\t Twinkle, twinkle, little star,\n",
      "\t \t How I wonder what you are\n"
     ]
    }
   ],
   "source": [
    "#1. Write a Python program to print the following string in a specific format (see the output).\n",
    "#          Twinkle, twinkle, little star,\n",
    "#                   How I wonder what you are!\n",
    "#                          Up above the world so high,\n",
    "#                          Like a diamond in the sky.\n",
    "#          Twinkle, twinkle, little star,\n",
    "#                   How I wonder what you are\n",
    "print(\"\\t Twinkle, twinkle, little star,\")\n",
    "print(\"\\t \\t How I wonder what you are!\")\n",
    "print(\"\\t \\t \\tUp above the world so high,\")\n",
    "print(\"\\t \\t \\t Like a diamond in the sky.\")\n",
    "print(\"\\t Twinkle, twinkle, little star,\")\n",
    "print(\"\\t \\t How I wonder what you are\")"
   ]
  },
  {
   "cell_type": "code",
   "execution_count": 3,
   "id": "85a1fba2",
   "metadata": {},
   "outputs": [
    {
     "name": "stdout",
     "output_type": "stream",
     "text": [
      "Python version \n",
      " \t 3.8.8 (default, Apr 13 2021, 15:08:03) [MSC v.1916 64 bit (AMD64)]\n",
      "Version info\n",
      "\t sys.version_info(major=3, minor=8, micro=8, releaselevel='final', serial=0)\n"
     ]
    }
   ],
   "source": [
    "#2. Write a Python program to get the Python version you are using\n",
    "\n",
    "import sys as Python_Jupiter\n",
    "print(\"Python version\",\"\\n \\t\",Python_Jupiter.version)\n",
    "print(\"Version info\")\n",
    "print (\"\\t\",Python_Jupiter.version_info)"
   ]
  },
  {
   "cell_type": "code",
   "execution_count": 4,
   "id": "64e79342",
   "metadata": {},
   "outputs": [
    {
     "name": "stdout",
     "output_type": "stream",
     "text": [
      "Date: 01/01/2022\n",
      "Time: 23:13:44\n"
     ]
    }
   ],
   "source": [
    "#3. Write a Python program to display the current date and time.\n",
    "\n",
    "\n",
    "import datetime\n",
    "date = datetime.date.today()\n",
    "print(\"Date:\",date.strftime(\"%d/%m/%Y\"))\n",
    "time = datetime.datetime.now()\n",
    "print(\"Time:\",time.strftime(\"%H:%M:%S\"))"
   ]
  },
  {
   "cell_type": "code",
   "execution_count": 5,
   "id": "9dd73b36",
   "metadata": {},
   "outputs": [
    {
     "name": "stdout",
     "output_type": "stream",
     "text": [
      "Enter Radius of a Circle : 6\n",
      "Area of a Circle = 113.097\n"
     ]
    }
   ],
   "source": [
    "#4. Write a Python program which accepts the radius of a circle from the user and compute the area\n",
    "\n",
    "import math\n",
    "radius= float(input(\"Enter Radius of a Circle : \"))\n",
    "area = round (math.pi *(radius**2),3)\n",
    "print(\"Area of a Circle =\",area)"
   ]
  },
  {
   "cell_type": "code",
   "execution_count": 6,
   "id": "c3345d9b",
   "metadata": {},
   "outputs": [
    {
     "name": "stdout",
     "output_type": "stream",
     "text": [
      "Enter First Name : Murtaza\n",
      "Enter Last Name : Siddiqui\n",
      "Siddiqui Murtaza\n"
     ]
    }
   ],
   "source": [
    "#5 Write a Python program which accepts the user's first and last name and print them in\n",
    "#  reverse order with a space between them.\n",
    "\n",
    "First_Name=input(\"Enter First Name : \")\n",
    "Last_Name=input(\"Enter Last Name : \")\n",
    "print(Last_Name+\" \"+First_Name)"
   ]
  },
  {
   "cell_type": "code",
   "execution_count": 7,
   "id": "8b9a676c",
   "metadata": {},
   "outputs": [
    {
     "name": "stdout",
     "output_type": "stream",
     "text": [
      "Enter First Number : 21\n",
      "Enter Second Number : 35\n",
      "Addition of Given Numbers = 21 + 35 = 56\n"
     ]
    }
   ],
   "source": [
    "#6. Write a python program which takes two inputs from user and print them addition\n",
    "\n",
    "number1 = int(input(\"Enter First Number : \"))\n",
    "number2 = int(input(\"Enter Second Number : \"))\n",
    "print(\"Addition of Given Numbers =\",number1,\"+\",number2,\"=\",number1 + number2)"
   ]
  },
  {
   "cell_type": "code",
   "execution_count": null,
   "id": "04d4e0a6",
   "metadata": {},
   "outputs": [],
   "source": []
  }
 ],
 "metadata": {
  "kernelspec": {
   "display_name": "Python 3",
   "language": "python",
   "name": "python3"
  },
  "language_info": {
   "codemirror_mode": {
    "name": "ipython",
    "version": 3
   },
   "file_extension": ".py",
   "mimetype": "text/x-python",
   "name": "python",
   "nbconvert_exporter": "python",
   "pygments_lexer": "ipython3",
   "version": "3.8.8"
  }
 },
 "nbformat": 4,
 "nbformat_minor": 5
}
